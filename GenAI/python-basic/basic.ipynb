{
 "cells": [
  {
   "cell_type": "markdown",
   "id": "30592cdb",
   "metadata": {},
   "source": [
    "### Python Example"
   ]
  },
  {
   "cell_type": "code",
   "execution_count": 2,
   "id": "df01379f",
   "metadata": {},
   "outputs": [
    {
     "name": "stdout",
     "output_type": "stream",
     "text": [
      "Hello World\n"
     ]
    }
   ],
   "source": [
    "print(\"Hello World\")"
   ]
  },
  {
   "cell_type": "code",
   "execution_count": null,
   "id": "502422ed",
   "metadata": {},
   "outputs": [],
   "source": [
    "## Basic syntax rules in python\n",
    "## case-sensitivity- Python is case sensitive\n",
    "\n",
    "name = \"Ramchandra\"\n",
    "Name = \"Karki\"\n",
    "\n",
    "print(name)\n",
    "print(Name)"
   ]
  }
 ],
 "metadata": {
  "kernelspec": {
   "display_name": ".venv",
   "language": "python",
   "name": "python3"
  },
  "language_info": {
   "codemirror_mode": {
    "name": "ipython",
    "version": 3
   },
   "file_extension": ".py",
   "mimetype": "text/x-python",
   "name": "python",
   "nbconvert_exporter": "python",
   "pygments_lexer": "ipython3",
   "version": "3.13.3"
  }
 },
 "nbformat": 4,
 "nbformat_minor": 5
}
